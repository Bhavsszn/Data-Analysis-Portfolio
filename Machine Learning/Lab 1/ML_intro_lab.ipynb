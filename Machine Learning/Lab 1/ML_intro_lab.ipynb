{
 "cells": [
  {
   "cell_type": "markdown",
   "id": "41537624-fd53-45f1-9905-a1178f6997a5",
   "metadata": {},
   "source": [
    "# Iris Data Exploration and Basic Machine Learning\n",
    "This notebook demonstrates the exploration and manipulation of the Iris dataset using Python, pandas, and scikit-learn.\n"
   ]
  },
  {
   "cell_type": "code",
   "execution_count": 2,
   "id": "9a5a96b0-131a-46e8-a1af-5abe89b12d1c",
   "metadata": {},
   "outputs": [],
   "source": [
    "# Importing necessary libraries\n",
    "from sklearn import datasets\n",
    "import numpy as np\n",
    "import pandas as pd\n"
   ]
  },
  {
   "cell_type": "markdown",
   "id": "f4e7e6ec-f2fb-4080-8efd-6cc3b151c314",
   "metadata": {},
   "source": [
    "## About the Iris Dataset\n",
    "The Iris dataset contains data about iris flowers, including:\n",
    "- **Features**: Sepal length, sepal width, petal length, petal width.\n",
    "- **Target**: Iris variety (Setosa, Virginica, Versicolor).\n",
    "\n",
    "We will explore the dataset, calculate statistics, and manipulate the data using Python.\n"
   ]
  },
  {
   "cell_type": "code",
   "execution_count": 5,
   "id": "5901fceb-3f2a-40cc-b64c-e2f816f66ab9",
   "metadata": {},
   "outputs": [
    {
     "name": "stdout",
     "output_type": "stream",
     "text": [
      "   Id  sepal.length  sepal.width  petal.length  petal.width variety\n",
      "0   0           5.1          3.5           1.4          0.2  Setosa\n",
      "1   1           4.9          3.0           1.4          0.2  Setosa\n",
      "2   2           4.7          3.2           1.3          0.2  Setosa\n",
      "3   3           4.6          3.1           1.5          0.2  Setosa\n",
      "4   4           5.0          3.6           1.4          0.2  Setosa\n"
     ]
    }
   ],
   "source": [
    "# Reading the Iris dataset from a CSV file into a pandas DataFrame\n",
    "input_file = \"iris.csv\"\n",
    "iris_data_frame = pd.read_csv(input_file)\n",
    "\n",
    "# Display the first 5 rows of the dataset\n",
    "print(iris_data_frame.head())\n"
   ]
  },
  {
   "cell_type": "markdown",
   "id": "0b531c8a-38c6-4c73-b70d-c2236da6c048",
   "metadata": {},
   "source": [
    "## About the Iris Dataset\n",
    "The Iris dataset contains data about iris flowers, including:\n",
    "- **Features**: Sepal length, sepal width, petal length, petal width.\n",
    "- **Target**: Iris variety (Setosa, Virginica, Versicolor).\n",
    "\n",
    "We will explore the dataset, calculate statistics, and manipulate the data using Python.\n"
   ]
  },
  {
   "cell_type": "code",
   "execution_count": 6,
   "id": "ccdeecf9-46ec-4635-91a2-19158e586fd0",
   "metadata": {},
   "outputs": [
    {
     "name": "stdout",
     "output_type": "stream",
     "text": [
      "   Id  sepal.length  sepal.width  petal.length  petal.width variety\n",
      "0   0           5.1          3.5           1.4          0.2  Setosa\n",
      "1   1           4.9          3.0           1.4          0.2  Setosa\n",
      "2   2           4.7          3.2           1.3          0.2  Setosa\n",
      "3   3           4.6          3.1           1.5          0.2  Setosa\n",
      "4   4           5.0          3.6           1.4          0.2  Setosa\n"
     ]
    }
   ],
   "source": [
    "# Reading the Iris dataset from a CSV file into a pandas DataFrame\n",
    "input_file = \"iris.csv\"\n",
    "iris_data_frame = pd.read_csv(input_file)\n",
    "\n",
    "# Display the first 5 rows of the dataset\n",
    "print(iris_data_frame.head())\n"
   ]
  },
  {
   "cell_type": "code",
   "execution_count": 7,
   "id": "9a71e742-036b-4ad6-b152-3dd4675932f8",
   "metadata": {},
   "outputs": [
    {
     "name": "stdout",
     "output_type": "stream",
     "text": [
      "   Id  sepal.length  sepal.width  petal.length  petal.width variety\n",
      "0   0           5.1          3.5           1.4          0.2  Setosa\n",
      "1   1           4.9          3.0           1.4          0.2  Setosa\n",
      "2   2           4.7          3.2           1.3          0.2  Setosa\n",
      "3   3           4.6          3.1           1.5          0.2  Setosa\n",
      "4   4           5.0          3.6           1.4          0.2  Setosa\n",
      "      Id  sepal.length  sepal.width  petal.length  petal.width    variety\n",
      "145  145           6.7          3.0           5.2          2.3  Virginica\n",
      "146  146           6.3          2.5           5.0          1.9  Virginica\n",
      "147  147           6.5          3.0           5.2          2.0  Virginica\n",
      "148  148           6.2          3.4           5.4          2.3  Virginica\n",
      "149  149           5.9          3.0           5.1          1.8  Virginica\n"
     ]
    }
   ],
   "source": [
    "# Inspecting the dataset\n",
    "print(iris_data_frame.head())  # First few rows\n",
    "print(iris_data_frame.tail())  # Last few rows\n"
   ]
  },
  {
   "cell_type": "code",
   "execution_count": 8,
   "id": "76c56a89-60d8-4dd5-a9bc-277a2d06fe14",
   "metadata": {},
   "outputs": [
    {
     "name": "stdout",
     "output_type": "stream",
     "text": [
      "0    1.4\n",
      "1    1.4\n",
      "2    1.3\n",
      "3    1.5\n",
      "4    1.4\n",
      "5    1.7\n",
      "6    1.4\n",
      "7    1.5\n",
      "8    1.4\n",
      "9    1.5\n",
      "Name: petal.length, dtype: float64\n",
      "140    2.4\n",
      "141    2.3\n",
      "142    1.9\n",
      "143    2.3\n",
      "144    2.5\n",
      "145    2.3\n",
      "146    1.9\n",
      "147    2.0\n",
      "148    2.3\n",
      "149    1.8\n",
      "Name: petal.width, dtype: float64\n"
     ]
    }
   ],
   "source": [
    "# Print the first 10 entries of the 'petal.length' column\n",
    "print(iris_data_frame['petal.length'].head(10))\n",
    "\n",
    "# Print the last 10 entries of the 'petal.width' column\n",
    "print(iris_data_frame['petal.width'].tail(10))\n"
   ]
  },
  {
   "cell_type": "code",
   "execution_count": 9,
   "id": "6dd4b7e2-42b9-44c5-9ea0-b69a8783b363",
   "metadata": {},
   "outputs": [
    {
     "name": "stdout",
     "output_type": "stream",
     "text": [
      "   sepal.length  sepal.width  petal.length  petal.width\n",
      "0           5.1          3.5           1.4          0.2\n",
      "1           4.9          3.0           1.4          0.2\n",
      "2           4.7          3.2           1.3          0.2\n",
      "3           4.6          3.1           1.5          0.2\n",
      "4           5.0          3.6           1.4          0.2\n"
     ]
    }
   ],
   "source": [
    "# Dropping 'Id' and 'variety' columns\n",
    "df_filtered = iris_data_frame.drop(columns=['Id', 'variety'])\n",
    "print(df_filtered.head())\n"
   ]
  },
  {
   "cell_type": "code",
   "execution_count": 10,
   "id": "c9665477-eba7-4f38-92d6-c279ea7d98e2",
   "metadata": {},
   "outputs": [
    {
     "name": "stdout",
     "output_type": "stream",
     "text": [
      "               Id  sepal.length  sepal.width  petal.length  petal.width\n",
      "count  150.000000    150.000000   150.000000    150.000000   150.000000\n",
      "mean    74.500000      5.843333     3.057333      3.758000     1.199333\n",
      "std     43.445368      0.828066     0.435866      1.765298     0.762238\n",
      "min      0.000000      4.300000     2.000000      1.000000     0.100000\n",
      "25%     37.250000      5.100000     2.800000      1.600000     0.300000\n",
      "50%     74.500000      5.800000     3.000000      4.350000     1.300000\n",
      "75%    111.750000      6.400000     3.300000      5.100000     1.800000\n",
      "max    149.000000      7.900000     4.400000      6.900000     2.500000\n",
      "Count of ID column: 150\n",
      "Mean of ID numbers: 74.5\n",
      "Standard deviation of sepal length: 0.8280661279778629\n",
      "Minimum petal length: 1.0\n",
      "Maximum petal width: 2.5\n"
     ]
    }
   ],
   "source": [
    "# Getting statistical data about the dataset\n",
    "statistics = iris_data_frame.describe()\n",
    "print(statistics)\n",
    "\n",
    "# Specific questions:\n",
    "print(\"Count of ID column:\", iris_data_frame['Id'].count())\n",
    "print(\"Mean of ID numbers:\", iris_data_frame['Id'].mean())\n",
    "print(\"Standard deviation of sepal length:\", iris_data_frame['sepal.length'].std())\n",
    "print(\"Minimum petal length:\", iris_data_frame['petal.length'].min())\n",
    "print(\"Maximum petal width:\", iris_data_frame['petal.width'].max())\n"
   ]
  },
  {
   "cell_type": "code",
   "execution_count": 11,
   "id": "0f59f144-01d7-412c-bc8c-b8177b5748bc",
   "metadata": {},
   "outputs": [
    {
     "name": "stdout",
     "output_type": "stream",
     "text": [
      "sepal length (cm)    0.828066\n",
      "sepal width (cm)     0.435866\n",
      "petal length (cm)    1.765298\n",
      "petal width (cm)     0.762238\n",
      "dtype: float64\n",
      "sepal length (cm)    float64\n",
      "sepal width (cm)     float64\n",
      "petal length (cm)    float64\n",
      "petal width (cm)     float64\n",
      "dtype: object\n"
     ]
    }
   ],
   "source": [
    "# Loading the Iris dataset from scikit-learn\n",
    "X, y = datasets.load_iris(return_X_y=True, as_frame=True)\n",
    "\n",
    "# Print standard deviation of data features\n",
    "print(X.std())\n",
    "\n",
    "# Print data types of features\n",
    "print(X.dtypes)\n"
   ]
  },
  {
   "cell_type": "code",
   "execution_count": 13,
   "id": "2214c4b6-161c-44ca-b5e4-57d4015dde3a",
   "metadata": {},
   "outputs": [
    {
     "data": {
      "image/png": "[encoded data removed]",
      "text/plain": [
       "<Figure size 640x480 with 1 Axes>"
      ]
     },
     "metadata": {},
     "output_type": "display_data"
    }
   ],
   "source": [
    "import matplotlib.pyplot as plt\n",
    "\n",
    "# Scatter plot\n",
    "plt.scatter(X['petal length (cm)'], X['petal width (cm)'], c=y)\n",
    "plt.xlabel('Petal Length (cm)')\n",
    "plt.ylabel('Petal Width (cm)')\n",
    "plt.title('Petal Length vs. Width')\n",
    "plt.show()\n"
   ]
  }
 ],
 "metadata": {
  "kernelspec": {
   "display_name": "Python 3 (ipykernel)",
   "language": "python",
   "name": "python3"
  },
  "language_info": {
   "codemirror_mode": {
    "name": "ipython",
    "version": 3
   },
   "file_extension": ".py",
   "mimetype": "text/x-python",
   "name": "python",
   "nbconvert_exporter": "python",
   "pygments_lexer": "ipython3",
   "version": "3.12.7"
  }
 },
 "nbformat": 4,
 "nbformat_minor": 5
}
