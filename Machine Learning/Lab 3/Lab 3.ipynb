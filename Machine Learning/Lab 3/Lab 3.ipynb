{
 "cells": [
  {
   "cell_type": "markdown",
   "id": "eaaadd72-541c-47af-8e5d-48ec2771a9db",
   "metadata": {},
   "source": [
    "# Lab 3: Time to Make, Train, and Evaluate a Linear Regression Model!\n",
    "\n",
    "### **Objective**\n",
    "This lab focuses on:\n",
    "- Reading and pre-processing data\n",
    "- Splitting the dataset into training and test sets\n",
    "- Creating and training a linear regression model\n",
    "- Making predictions\n",
    "- Evaluating the model's performance using various metrics\n",
    "\n",
    "---"
   ]
  },
  {
   "cell_type": "markdown",
   "id": "5015c301-a6b5-499c-a9ff-6beaf0a4e176",
   "metadata": {},
   "source": [
    "\n",
    "## **1. Import Statements and Setup**"
   ]
  },
  {
   "cell_type": "code",
   "execution_count": 2,
   "id": "d95cf207-6030-4c57-a799-5bacc0c9ef1f",
   "metadata": {},
   "outputs": [],
   "source": [
    "# Importing necessary libraries\n",
    "from sklearn.model_selection import train_test_split\n",
    "from sklearn.linear_model import LinearRegression\n",
    "from sklearn.metrics import mean_squared_error, r2_score, mean_absolute_error\n",
    "import numpy as np\n",
    "import pandas as pd"
   ]
  },
  {
   "cell_type": "markdown",
   "id": "888473cb-5358-4a08-955c-fcfb8397f634",
   "metadata": {},
   "source": [
    "### Load the dataset"
   ]
  },
  {
   "cell_type": "code",
   "execution_count": 3,
   "id": "8dcc5bd6-44a4-4ce3-9b82-866aed8bafe4",
   "metadata": {},
   "outputs": [
    {
     "name": "stdout",
     "output_type": "stream",
     "text": [
      "Dataset preview:\n",
      "      crim    zn  indus  chas    nox     rm   age     dis  rad  tax  ptratio  \\\n",
      "0  0.00632  18.0   2.31     0  0.538  6.575  65.2  4.0900    1  296     15.3   \n",
      "1  0.02731   0.0   7.07     0  0.469  6.421  78.9  4.9671    2  242     17.8   \n",
      "2  0.02729   0.0   7.07     0  0.469  7.185  61.1  4.9671    2  242     17.8   \n",
      "3  0.03237   0.0   2.18     0  0.458  6.998  45.8  6.0622    3  222     18.7   \n",
      "4  0.06905   0.0   2.18     0  0.458  7.147  54.2  6.0622    3  222     18.7   \n",
      "\n",
      "        b  lstat  medv  \n",
      "0  396.90   4.98  24.0  \n",
      "1  396.90   9.14  21.6  \n",
      "2  392.83   4.03  34.7  \n",
      "3  394.63   2.94  33.4  \n",
      "4  396.90   5.33  36.2  \n"
     ]
    }
   ],
   "source": [
    "# Load the dataset\n",
    "file_path = \"BostonHousing.csv\"  # Update this path if necessary\n",
    "df = pd.read_csv(file_path)\n",
    "\n",
    "# Display the first few rows of the dataset\n",
    "print(\"Dataset preview:\")\n",
    "print(df.head())"
   ]
  },
  {
   "cell_type": "markdown",
   "id": "6c139611-3269-4739-a4ea-25a02c6509d9",
   "metadata": {},
   "source": [
    "## Step 2: Data Preprocessing"
   ]
  },
  {
   "cell_type": "markdown",
   "id": "a5faa53c-cd23-475d-b2f9-ea8b2487ba89",
   "metadata": {},
   "source": [
    "### 2.1: Separating Features (X) and Target (y)\n"
   ]
  },
  {
   "cell_type": "code",
   "execution_count": 4,
   "id": "12fec570-158a-4561-8ece-b61526c762aa",
   "metadata": {},
   "outputs": [
    {
     "name": "stdout",
     "output_type": "stream",
     "text": [
      "\n",
      "Features (X):\n",
      "      crim    zn  indus  chas    nox     rm   age     dis  rad  tax  ptratio  \\\n",
      "0  0.00632  18.0   2.31     0  0.538  6.575  65.2  4.0900    1  296     15.3   \n",
      "1  0.02731   0.0   7.07     0  0.469  6.421  78.9  4.9671    2  242     17.8   \n",
      "2  0.02729   0.0   7.07     0  0.469  7.185  61.1  4.9671    2  242     17.8   \n",
      "3  0.03237   0.0   2.18     0  0.458  6.998  45.8  6.0622    3  222     18.7   \n",
      "4  0.06905   0.0   2.18     0  0.458  7.147  54.2  6.0622    3  222     18.7   \n",
      "\n",
      "        b  lstat  \n",
      "0  396.90   4.98  \n",
      "1  396.90   9.14  \n",
      "2  392.83   4.03  \n",
      "3  394.63   2.94  \n",
      "4  396.90   5.33  \n",
      "\n",
      "Target (y):\n",
      "0    24.0\n",
      "1    21.6\n",
      "2    34.7\n",
      "3    33.4\n",
      "4    36.2\n",
      "Name: medv, dtype: float64\n"
     ]
    }
   ],
   "source": [
    "# Assuming the target variable is in the last column\n",
    "X = df.iloc[:, :-1]\n",
    "y = df.iloc[:, -1]\n",
    "\n",
    "# Confirm separation\n",
    "print(\"\\nFeatures (X):\")\n",
    "print(X.head())\n",
    "print(\"\\nTarget (y):\")\n",
    "print(y.head())\n"
   ]
  },
  {
   "cell_type": "markdown",
   "id": "603f1ed6-068d-4a89-b3c7-14244d4f6b22",
   "metadata": {},
   "source": [
    "### 2.2: Checking Data Types and Null Values"
   ]
  },
  {
   "cell_type": "code",
   "execution_count": 5,
   "id": "0cc772ec-444c-430a-9645-1635433dedf8",
   "metadata": {},
   "outputs": [
    {
     "name": "stdout",
     "output_type": "stream",
     "text": [
      "\n",
      "Column Data Types:\n",
      "crim       float64\n",
      "zn         float64\n",
      "indus      float64\n",
      "chas         int64\n",
      "nox        float64\n",
      "rm         float64\n",
      "age        float64\n",
      "dis        float64\n",
      "rad          int64\n",
      "tax          int64\n",
      "ptratio    float64\n",
      "b          float64\n",
      "lstat      float64\n",
      "medv       float64\n",
      "dtype: object\n",
      "\n",
      "Null Value Check:\n",
      "crim       0\n",
      "zn         0\n",
      "indus      0\n",
      "chas       0\n",
      "nox        0\n",
      "rm         0\n",
      "age        0\n",
      "dis        0\n",
      "rad        0\n",
      "tax        0\n",
      "ptratio    0\n",
      "b          0\n",
      "lstat      0\n",
      "medv       0\n",
      "dtype: int64\n",
      "\n",
      "No non-numeric columns found.\n"
     ]
    }
   ],
   "source": [
    "print(\"\\nColumn Data Types:\")\n",
    "print(df.dtypes)\n",
    "\n",
    "# Check for null values\n",
    "null_check = df.isnull().sum()\n",
    "print(\"\\nNull Value Check:\")\n",
    "print(null_check)\n",
    "\n",
    "# Ensure there are no non-numeric columns\n",
    "if X.select_dtypes(include=['object']).empty:\n",
    "    print(\"\\nNo non-numeric columns found.\")\n",
    "else:\n",
    "    print(\"\\nWarning: Non-numeric columns detected!\")\n"
   ]
  },
  {
   "cell_type": "markdown",
   "id": "5b9ef9ac-0e28-4e16-918a-951986ff8bff",
   "metadata": {},
   "source": [
    "## Step 3: Splitting the Dataset"
   ]
  },
  {
   "cell_type": "code",
   "execution_count": 6,
   "id": "1c30d996-4696-4e85-bbf4-96b3668e60ea",
   "metadata": {},
   "outputs": [
    {
     "name": "stdout",
     "output_type": "stream",
     "text": [
      "\n",
      "Dataset Shapes:\n",
      "Training Features: (404, 13), Training Target: (404,)\n",
      "Testing Features: (102, 13), Testing Target: (102,)\n"
     ]
    }
   ],
   "source": [
    "# Splitting data into training and testing subsets\n",
    "X_train, X_test, y_train, y_test = train_test_split(X, y, test_size=0.2, random_state=42, shuffle=True)\n",
    "\n",
    "# Display shapes of resulting datasets\n",
    "print(\"\\nDataset Shapes:\")\n",
    "print(f\"Training Features: {X_train.shape}, Training Target: {y_train.shape}\")\n",
    "print(f\"Testing Features: {X_test.shape}, Testing Target: {y_test.shape}\")\n"
   ]
  },
  {
   "cell_type": "markdown",
   "id": "6022b059-d0d2-42fd-b05f-434b620062f5",
   "metadata": {},
   "source": [
    "## Step 4: Model Training and Prediction\n"
   ]
  },
  {
   "cell_type": "code",
   "execution_count": 7,
   "id": "4586516d-aab9-4797-8d97-b8413697d20a",
   "metadata": {},
   "outputs": [],
   "source": [
    "def build_model(X_train, X_test, y_train):\n",
    "    # Create and train the linear regression model\n",
    "    model = LinearRegression()\n",
    "    model.fit(X_train, y_train)\n",
    "    \n",
    "    # Make predictions\n",
    "    y_predictions = model.predict(X_test)\n",
    "    return model, y_predictions\n",
    "\n",
    "# Train the model and get predictions\n",
    "model, y_predictions = build_model(X_train, X_test, y_train)\n"
   ]
  },
  {
   "cell_type": "markdown",
   "id": "aa7d15e1-6904-481b-a644-81c4ae14e3d4",
   "metadata": {},
   "source": [
    "## Step 5: Model Evaluation\n"
   ]
  },
  {
   "cell_type": "code",
   "execution_count": 8,
   "id": "13e4085c-a7e6-4cee-aa59-5b897c646b11",
   "metadata": {},
   "outputs": [
    {
     "name": "stdout",
     "output_type": "stream",
     "text": [
      "\n",
      "Model Evaluation Metrics:\n",
      "Mean Absolute Error (MAE): 3.19\n",
      "Mean Squared Error (MSE): 24.29\n",
      "Root Mean Squared Error (RMSE): 4.93\n",
      "R-squared (R2 Score): 0.67\n"
     ]
    }
   ],
   "source": [
    "# Evaluate the model\n",
    "mae = mean_absolute_error(y_test, y_predictions)\n",
    "mse = mean_squared_error(y_test, y_predictions)\n",
    "rmse = np.sqrt(mse)\n",
    "r2 = r2_score(y_test, y_predictions)\n",
    "\n",
    "# Display evaluation metrics\n",
    "print(\"\\nModel Evaluation Metrics:\")\n",
    "print(f\"Mean Absolute Error (MAE): {mae:.2f}\")\n",
    "print(f\"Mean Squared Error (MSE): {mse:.2f}\")\n",
    "print(f\"Root Mean Squared Error (RMSE): {rmse:.2f}\")\n",
    "print(f\"R-squared (R2 Score): {r2:.2f}\")\n",
    "\n",
    "# Optional: Save evaluation results\n",
    "results = {\n",
    "    \"MAE\": mae,\n",
    "    \"MSE\": mse,\n",
    "    \"RMSE\": rmse,\n",
    "    \"R2 Score\": r2\n",
    "}\n",
    "results_df = pd.DataFrame([results])\n",
    "results_df.to_csv(\"model_evaluation_results.csv\", index=False)\n"
   ]
  },
  {
   "cell_type": "code",
   "execution_count": null,
   "id": "b1b97e5c-7d28-4509-b445-c609496a8d4b",
   "metadata": {},
   "outputs": [],
   "source": []
  }
 ],
 "metadata": {
  "kernelspec": {
   "display_name": "Python 3 (ipykernel)",
   "language": "python",
   "name": "python3"
  },
  "language_info": {
   "codemirror_mode": {
    "name": "ipython",
    "version": 3
   },
   "file_extension": ".py",
   "mimetype": "text/x-python",
   "name": "python",
   "nbconvert_exporter": "python",
   "pygments_lexer": "ipython3",
   "version": "3.12.7"
  }
 },
 "nbformat": 4,
 "nbformat_minor": 5
}
