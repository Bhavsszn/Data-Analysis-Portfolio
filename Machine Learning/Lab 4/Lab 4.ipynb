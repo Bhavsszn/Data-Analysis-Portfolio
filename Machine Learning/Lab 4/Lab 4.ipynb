{
 "cells": [
  {
   "cell_type": "markdown",
   "id": "7ff8722c-5cf8-4cbf-8aa7-5049be31d3c4",
   "metadata": {},
   "source": [
    "# CYBR 486 - Lab #4: Polynomial Regression, Ridge Regression, and Regularization\n",
    "\n",
    "This notebook demonstrates the process of building and evaluating regression models, including:\n",
    "1. Linear Regression\n",
    "2. Polynomial Regression (degrees 2, 4, and 6)\n",
    "3. Ridge Regression\n",
    "\n",
    "The performance of these models is compared using Root Mean Square Error (RMSE) and R² score.\n"
   ]
  },
  {
   "cell_type": "markdown",
   "id": "501b9fd3-8adc-4969-b823-bb2dd47f71e4",
   "metadata": {},
   "source": [
    "## 1. Import Required Libraries\n"
   ]
  },
  {
   "cell_type": "code",
   "execution_count": 8,
   "id": "31c396fc-3309-44b2-8e70-eb1cb61c653e",
   "metadata": {},
   "outputs": [],
   "source": [
    "# Import necessary libraries\n",
    "import numpy as np\n",
    "import pandas as pd\n",
    "from sklearn.linear_model import LinearRegression, RidgeCV\n",
    "from sklearn.preprocessing import PolynomialFeatures\n",
    "from sklearn.model_selection import train_test_split\n",
    "from sklearn.metrics import mean_squared_error, r2_score\n"
   ]
  },
  {
   "cell_type": "markdown",
   "id": "820f143f-0228-4a13-9177-98340f199a4f",
   "metadata": {},
   "source": [
    "## 2. Load and Split the Housing Dataset\n"
   ]
  },
  {
   "cell_type": "code",
   "execution_count": 11,
   "id": "599d14b4-bddd-4049-b77a-9f15eddb8cda",
   "metadata": {},
   "outputs": [
    {
     "name": "stdout",
     "output_type": "stream",
     "text": [
      "Dataset Preview:\n",
      "      crim    zn  indus  chas    nox     rm   age     dis  rad  tax  ptratio  \\\n",
      "0  0.00632  18.0   2.31     0  0.538  6.575  65.2  4.0900    1  296     15.3   \n",
      "1  0.02731   0.0   7.07     0  0.469  6.421  78.9  4.9671    2  242     17.8   \n",
      "2  0.02729   0.0   7.07     0  0.469  7.185  61.1  4.9671    2  242     17.8   \n",
      "3  0.03237   0.0   2.18     0  0.458  6.998  45.8  6.0622    3  222     18.7   \n",
      "4  0.06905   0.0   2.18     0  0.458  7.147  54.2  6.0622    3  222     18.7   \n",
      "\n",
      "        b  lstat  medv  \n",
      "0  396.90   4.98  24.0  \n",
      "1  396.90   9.14  21.6  \n",
      "2  392.83   4.03  34.7  \n",
      "3  394.63   2.94  33.4  \n",
      "4  396.90   5.33  36.2  \n",
      "\n",
      "Dataset successfully loaded and split.\n",
      "Training set size: 404 samples\n",
      "Testing set size: 102 samples\n"
     ]
    }
   ],
   "source": [
    "# Load the dataset\n",
    "df = pd.read_csv(\"BostonHousing.csv\") \n",
    "# Inspect the dataset structure\n",
    "print(\"Dataset Preview:\")\n",
    "print(df.head())\n",
    "\n",
    "# Separate features (X) and target variable (y)\n",
    "X = df.drop(columns=[\"medv\"])  \n",
    "y = df[\"medv\"]\n",
    "\n",
    "# Split the dataset into 80% training and 20% testing subsets\n",
    "X_train, X_test, y_train, y_test = train_test_split(X, y, test_size=0.2, random_state=42)\n",
    "\n",
    "print(\"\\nDataset successfully loaded and split.\")\n",
    "print(f\"Training set size: {X_train.shape[0]} samples\")\n",
    "print(f\"Testing set size: {X_test.shape[0]} samples\")\n"
   ]
  },
  {
   "cell_type": "markdown",
   "id": "7253472a-c50a-4cfc-b35b-f4d965a62ab5",
   "metadata": {},
   "source": [
    "## 3. Train and Evaluate the Linear Regression Model\n"
   ]
  },
  {
   "cell_type": "code",
   "execution_count": 13,
   "id": "13ea77c6-4fc1-42a3-a251-8465ee7ec533",
   "metadata": {},
   "outputs": [
    {
     "name": "stdout",
     "output_type": "stream",
     "text": [
      "Linear Regression Results:\n",
      "Root Mean Square Error (RMSE): 4.93\n",
      "R2 Score: 0.67\n"
     ]
    }
   ],
   "source": [
    "# Train the Linear Regression model\n",
    "linear_model = LinearRegression()\n",
    "linear_model.fit(X_train, y_train)\n",
    "\n",
    "# Predict and evaluate the Linear Regression model\n",
    "linear_predictions = linear_model.predict(X_test)\n",
    "linear_rmse = np.sqrt(mean_squared_error(y_test, linear_predictions))\n",
    "linear_r2 = r2_score(y_test, linear_predictions)\n",
    "\n",
    "print(\"Linear Regression Results:\")\n",
    "print(f\"Root Mean Square Error (RMSE): {linear_rmse:.2f}\")\n",
    "print(f\"R2 Score: {linear_r2:.2f}\")\n"
   ]
  },
  {
   "cell_type": "markdown",
   "id": "0068b88d-5ebb-4a76-a6b1-84049517eb83",
   "metadata": {},
   "source": [
    "## 4. Train and Evaluate the Polynomial Regression Model\n"
   ]
  },
  {
   "cell_type": "code",
   "execution_count": 15,
   "id": "927b510b-652f-4f36-a26a-41893ab17e0b",
   "metadata": {},
   "outputs": [
    {
     "name": "stdout",
     "output_type": "stream",
     "text": [
      "Polynomial Regression (Degree 2) Results:\n",
      "Root Mean Square Error (RMSE): 3.77\n",
      "R² Score: 0.81\n",
      "Polynomial Regression (Degree 4) Results:\n",
      "Root Mean Square Error (RMSE): 73.60\n",
      "R² Score: -72.88\n",
      "Polynomial Regression (Degree 6) Results:\n",
      "Root Mean Square Error (RMSE): 178.72\n",
      "R² Score: -434.54\n"
     ]
    }
   ],
   "source": [
    "# Function to train and evaluate Polynomial Regression with varying degrees\n",
    "def evaluate_polynomial_model(degree):\n",
    "    # Transform features to polynomial\n",
    "    poly_transformer = PolynomialFeatures(degree=degree)\n",
    "    poly_X_train = poly_transformer.fit_transform(X_train)\n",
    "    poly_X_test = poly_transformer.transform(X_test)\n",
    "\n",
    "    # Train a new Linear Regression model on transformed data\n",
    "    poly_model = LinearRegression()\n",
    "    poly_model.fit(poly_X_train, y_train)\n",
    "\n",
    "    # Predictions and evaluations\n",
    "    poly_predictions = poly_model.predict(poly_X_test)\n",
    "    poly_rmse = np.sqrt(mean_squared_error(y_test, poly_predictions))\n",
    "    poly_r2 = r2_score(y_test, poly_predictions)\n",
    "\n",
    "    return poly_rmse, poly_r2\n",
    "\n",
    "# Evaluate Polynomial Regression for degrees 2, 4, and 6\n",
    "for degree in [2, 4, 6]:\n",
    "    poly_rmse, poly_r2 = evaluate_polynomial_model(degree)\n",
    "    print(f\"Polynomial Regression (Degree {degree}) Results:\")\n",
    "    print(f\"Root Mean Square Error (RMSE): {poly_rmse:.2f}\")\n",
    "    print(f\"R² Score: {poly_r2:.2f}\")\n"
   ]
  },
  {
   "cell_type": "markdown",
   "id": "31951304-33e4-4ff9-b07b-66b1853f12d2",
   "metadata": {},
   "source": [
    "## 5. Train and Evaluate the Ridge Regression Model\n"
   ]
  },
  {
   "cell_type": "code",
   "execution_count": 16,
   "id": "ddcf6a0e-7048-4db0-ab28-7ac4bf7f7ee3",
   "metadata": {},
   "outputs": [
    {
     "name": "stdout",
     "output_type": "stream",
     "text": [
      "Ridge Regression Results:\n",
      "Root Mean Square Error (RMSE): 4.93\n",
      "R2 Score: 0.67\n"
     ]
    }
   ],
   "source": [
    "# Ridge Regression Model with Cross-Validation\n",
    "alpha_values = [0.001, 0.01, 0.1, 1, 10]\n",
    "ridge_model = RidgeCV(alphas=alpha_values)\n",
    "ridge_model.fit(X_train, y_train)\n",
    "\n",
    "ridge_predictions = ridge_model.predict(X_test)\n",
    "ridge_rmse = np.sqrt(mean_squared_error(y_test, ridge_predictions))\n",
    "ridge_r2 = r2_score(y_test, ridge_predictions)\n",
    "\n",
    "print(\"Ridge Regression Results:\")\n",
    "print(f\"Root Mean Square Error (RMSE): {ridge_rmse:.2f}\")\n",
    "print(f\"R2 Score: {ridge_r2:.2f}\")\n"
   ]
  },
  {
   "cell_type": "markdown",
   "id": "12ad5d74-1610-4555-8916-40acffc640b6",
   "metadata": {},
   "source": [
    "## 6. Compare Model Performances and Observations\n"
   ]
  },
  {
   "cell_type": "code",
   "execution_count": 18,
   "id": "0b646ff3-4b93-4b87-8437-885df1fd057d",
   "metadata": {},
   "outputs": [
    {
     "name": "stdout",
     "output_type": "stream",
     "text": [
      "Model Comparison:\n",
      "Linear Regression: RMSE = 4.93, R2 = 0.67\n"
     ]
    },
    {
     "ename": "NameError",
     "evalue": "name 'degrees' is not defined",
     "output_type": "error",
     "traceback": [
      "\u001b[1;31m---------------------------------------------------------------------------\u001b[0m",
      "\u001b[1;31mNameError\u001b[0m                                 Traceback (most recent call last)",
      "Cell \u001b[1;32mIn[18], line 3\u001b[0m\n\u001b[0;32m      1\u001b[0m \u001b[38;5;28mprint\u001b[39m(\u001b[38;5;124m\"\u001b[39m\u001b[38;5;124mModel Comparison:\u001b[39m\u001b[38;5;124m\"\u001b[39m)\n\u001b[0;32m      2\u001b[0m \u001b[38;5;28mprint\u001b[39m(\u001b[38;5;124mf\u001b[39m\u001b[38;5;124m\"\u001b[39m\u001b[38;5;124mLinear Regression: RMSE = \u001b[39m\u001b[38;5;132;01m{\u001b[39;00mlinear_rmse\u001b[38;5;132;01m:\u001b[39;00m\u001b[38;5;124m.2f\u001b[39m\u001b[38;5;132;01m}\u001b[39;00m\u001b[38;5;124m, R2 = \u001b[39m\u001b[38;5;132;01m{\u001b[39;00mlinear_r2\u001b[38;5;132;01m:\u001b[39;00m\u001b[38;5;124m.2f\u001b[39m\u001b[38;5;132;01m}\u001b[39;00m\u001b[38;5;124m\"\u001b[39m)\n\u001b[1;32m----> 3\u001b[0m \u001b[38;5;28mprint\u001b[39m(\u001b[38;5;124mf\u001b[39m\u001b[38;5;124m\"\u001b[39m\u001b[38;5;124mPolynomial Regression (Degree \u001b[39m\u001b[38;5;132;01m{\u001b[39;00mdegrees\u001b[38;5;132;01m}\u001b[39;00m\u001b[38;5;124m): RMSE = \u001b[39m\u001b[38;5;132;01m{\u001b[39;00mpoly_rmse\u001b[38;5;132;01m:\u001b[39;00m\u001b[38;5;124m.2f\u001b[39m\u001b[38;5;132;01m}\u001b[39;00m\u001b[38;5;124m, R2 = \u001b[39m\u001b[38;5;132;01m{\u001b[39;00mpoly_r2\u001b[38;5;132;01m:\u001b[39;00m\u001b[38;5;124m.2f\u001b[39m\u001b[38;5;132;01m}\u001b[39;00m\u001b[38;5;124m\"\u001b[39m)\n\u001b[0;32m      4\u001b[0m \u001b[38;5;28mprint\u001b[39m(\u001b[38;5;124mf\u001b[39m\u001b[38;5;124m\"\u001b[39m\u001b[38;5;124mRidge Regression: RMSE = \u001b[39m\u001b[38;5;132;01m{\u001b[39;00mridge_rmse\u001b[38;5;132;01m:\u001b[39;00m\u001b[38;5;124m.2f\u001b[39m\u001b[38;5;132;01m}\u001b[39;00m\u001b[38;5;124m, R2 = \u001b[39m\u001b[38;5;132;01m{\u001b[39;00mridge_r2\u001b[38;5;132;01m:\u001b[39;00m\u001b[38;5;124m.2f\u001b[39m\u001b[38;5;132;01m}\u001b[39;00m\u001b[38;5;124m\"\u001b[39m)\n\u001b[0;32m      6\u001b[0m \u001b[38;5;66;03m# Observations\u001b[39;00m\n",
      "\u001b[1;31mNameError\u001b[0m: name 'degrees' is not defined"
     ]
    }
   ],
   "source": [
    "print(\"Model Comparison:\")\n",
    "print(f\"Linear Regression: RMSE = {linear_rmse:.2f}, R2 = {linear_r2:.2f}\")\n",
    "print(f\"Polynomial Regression (Degree {degrees}): RMSE = {poly_rmse:.2f}, R2 = {poly_r2:.2f}\")\n",
    "print(f\"Ridge Regression: RMSE = {ridge_rmse:.2f}, R2 = {ridge_r2:.2f}\")\n",
    "\n",
    "# Observations\n",
    "print(\"\"\"\n",
    "- Linear Regression captures simple relationships but struggles with complex patterns.\n",
    "- Polynomial Regression improves accuracy but risks overfitting at higher degrees.\n",
    "- Ridge Regression balances complexity and generalization effectively.\n",
    "\"\"\")\n"
   ]
  }
 ],
 "metadata": {
  "kernelspec": {
   "display_name": "Python 3 (ipykernel)",
   "language": "python",
   "name": "python3"
  },
  "language_info": {
   "codemirror_mode": {
    "name": "ipython",
    "version": 3
   },
   "file_extension": ".py",
   "mimetype": "text/x-python",
   "name": "python",
   "nbconvert_exporter": "python",
   "pygments_lexer": "ipython3",
   "version": "3.12.7"
  }
 },
 "nbformat": 4,
 "nbformat_minor": 5
}
