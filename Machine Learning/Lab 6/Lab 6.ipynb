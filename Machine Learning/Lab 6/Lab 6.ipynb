{
 "cells": [
  {
   "cell_type": "markdown",
   "id": "bc834470-c9fc-4756-a321-06dd037e6cbe",
   "metadata": {},
   "source": [
    "# CYBR 486 - Lab #6: Decision Trees\n",
    "\n",
    "## Objective\n",
    "This lab explores decision tree classifiers by:\n",
    "1. Viewing the dataset summary.\n",
    "2. Encoding categorical variables into numeric representations.\n",
    "3. Splitting the dataset into training and testing sets.\n",
    "4. Building and training decision tree models using both 'gini index' and 'entropy' criteria.\n",
    "5. Evaluating the models using accuracy, recall, and precision.\n",
    "6. Visualizing the decision trees using Graphviz."
   ]
  },
  {
   "cell_type": "markdown",
   "id": "426752e7-6c44-455b-b034-6ac01b41bbd9",
   "metadata": {},
   "source": [
    "---\n",
    "\n",
    "## Required Imports\n"
   ]
  },
  {
   "cell_type": "code",
   "execution_count": 32,
   "id": "9aaa6614-8989-41b5-b8e5-b531348614d8",
   "metadata": {},
   "outputs": [],
   "source": [
    "import pandas as pd\n",
    "from sklearn.preprocessing import LabelEncoder, OrdinalEncoder\n",
    "from sklearn.metrics import accuracy_score, precision_score, recall_score, classification_report\n",
    "from sklearn.model_selection import train_test_split\n",
    "from sklearn.tree import DecisionTreeClassifier, export_graphviz\n",
    "import graphviz"
   ]
  },
  {
   "cell_type": "markdown",
   "id": "ec1856e8-53de-421b-8703-365d95838400",
   "metadata": {},
   "source": [
    "## Step 1: Dataset Overview"
   ]
  },
  {
   "cell_type": "code",
   "execution_count": 33,
   "id": "09b1b6d8-9aeb-4932-8914-a779bcb1e4e3",
   "metadata": {},
   "outputs": [
    {
     "name": "stdout",
     "output_type": "stream",
     "text": [
      "<class 'pandas.core.frame.DataFrame'>\n",
      "RangeIndex: 1728 entries, 0 to 1727\n",
      "Data columns (total 7 columns):\n",
      " #   Column             Non-Null Count  Dtype \n",
      "---  ------             --------------  ----- \n",
      " 0   buying_price       1728 non-null   object\n",
      " 1   maintenance_cost   1728 non-null   object\n",
      " 2   number_of_doors    1728 non-null   object\n",
      " 3   number_of_persons  1728 non-null   object\n",
      " 4   lug_boot           1728 non-null   object\n",
      " 5   safety             1728 non-null   object\n",
      " 6   decision           1728 non-null   object\n",
      "dtypes: object(7)\n",
      "memory usage: 94.6+ KB\n",
      "None\n",
      "  buying_price maintenance_cost number_of_doors number_of_persons lug_boot  \\\n",
      "0        vhigh            vhigh               2                 2    small   \n",
      "1        vhigh            vhigh               2                 2    small   \n",
      "2        vhigh            vhigh               2                 2    small   \n",
      "3        vhigh            vhigh               2                 2      med   \n",
      "4        vhigh            vhigh               2                 2      med   \n",
      "\n",
      "  safety decision  \n",
      "0    low    unacc  \n",
      "1    med    unacc  \n",
      "2   high    unacc  \n",
      "3    low    unacc  \n",
      "4    med    unacc  \n"
     ]
    }
   ],
   "source": [
    "# Load the dataset\n",
    "dataset = pd.read_csv('car_evaluation.csv')\n",
    "\n",
    "# Display dataset info\n",
    "print(dataset.info())\n",
    "print(dataset.head())\n"
   ]
  },
  {
   "cell_type": "markdown",
   "id": "85aea67d-a43b-414f-864c-168d2e0bccbd",
   "metadata": {},
   "source": [
    "## Step 2: Preprocessing the Dataset\n",
    "\n",
    "### Encoding Categorical Variables\n",
    "\n",
    "Ordinal encoding is used for feature columns, while label encoding is used for the target column.\n"
   ]
  },
  {
   "cell_type": "code",
   "execution_count": 34,
   "id": "4182e889-eba9-4a23-9650-ff80be78dd7d",
   "metadata": {},
   "outputs": [
    {
     "name": "stdout",
     "output_type": "stream",
     "text": [
      "   buying_price  maintenance_cost  number_of_doors  number_of_persons  \\\n",
      "0           3.0               3.0              0.0                0.0   \n",
      "1           3.0               3.0              0.0                0.0   \n",
      "2           3.0               3.0              0.0                0.0   \n",
      "3           3.0               3.0              0.0                0.0   \n",
      "4           3.0               3.0              0.0                0.0   \n",
      "\n",
      "   lug_boot  safety  \n",
      "0       0.0     0.0  \n",
      "1       0.0     1.0  \n",
      "2       0.0     2.0  \n",
      "3       1.0     0.0  \n",
      "4       1.0     1.0  \n",
      "   decision\n",
      "0         2\n",
      "1         2\n",
      "2         2\n",
      "3         2\n",
      "4         2\n"
     ]
    }
   ],
   "source": [
    "# Define the order for ordinal encoding\n",
    "buying_price_order = ['low', 'med', 'high', 'vhigh']\n",
    "maintenance_cost_order = ['low', 'med', 'high', 'vhigh']\n",
    "number_of_doors_order = ['2', '3', '4', '5more']\n",
    "number_of_persons_order = ['2', '4', 'more']\n",
    "lug_boot_order = ['small', 'med', 'big']\n",
    "safety_order = ['low', 'med', 'high']\n",
    "\n",
    "# Create the ordinal encoder\n",
    "ordinal_encoder = OrdinalEncoder(categories=[\n",
    "    buying_price_order, maintenance_cost_order, number_of_doors_order, \n",
    "    number_of_persons_order, lug_boot_order, safety_order\n",
    "])\n",
    "\n",
    "# Encode the feature columns\n",
    "car_X = dataset.iloc[:, :-1]\n",
    "car_X_encoded = ordinal_encoder.fit_transform(car_X)\n",
    "\n",
    "# Convert back to DataFrame\n",
    "encoded_column_list = [\"buying_price\", \"maintenance_cost\", \"number_of_doors\", \n",
    "                       \"number_of_persons\", \"lug_boot\", \"safety\"]\n",
    "car_X_encoded = pd.DataFrame(car_X_encoded, columns=encoded_column_list)\n",
    "print(car_X_encoded.head())\n",
    "\n",
    "# Encode the target column\n",
    "car_y = dataset.iloc[:, -1]\n",
    "label_encoder = LabelEncoder()\n",
    "car_y_encoded = label_encoder.fit_transform(car_y)\n",
    "car_y_encoded = pd.DataFrame(car_y_encoded, columns=['decision'])\n",
    "print(car_y_encoded.head())\n"
   ]
  },
  {
   "cell_type": "markdown",
   "id": "af1e871e-6348-4d7a-b761-8572787df1ca",
   "metadata": {},
   "source": [
    "## Step 3: Splitting the Dataset"
   ]
  },
  {
   "cell_type": "code",
   "execution_count": 35,
   "id": "0e28531a-3c3e-4dfa-98a2-ca44673baf8b",
   "metadata": {},
   "outputs": [],
   "source": [
    "# Split into training and testing sets\n",
    "X_train, X_test, y_train, y_test = train_test_split(car_X_encoded, car_y_encoded, \n",
    "                                                    test_size=0.2, random_state=42)\n"
   ]
  },
  {
   "cell_type": "markdown",
   "id": "92095415-02f7-4769-9a5c-d2848c236402",
   "metadata": {},
   "source": [
    "## Step 4: Building Decision Tree Models\n",
    "\n",
    "### Decision Tree with Entropy Criterion\n"
   ]
  },
  {
   "cell_type": "code",
   "execution_count": 36,
   "id": "ee18553e-2bd3-4c26-9355-7dd670b56657",
   "metadata": {},
   "outputs": [],
   "source": [
    "# Create and train the model\n",
    "maxDepth = 6\n",
    "classifier_tree_entropy = DecisionTreeClassifier(criterion='entropy', max_depth=maxDepth)\n",
    "classifier_tree_entropy.fit(X_train, y_train)\n",
    "\n",
    "# Make predictions\n",
    "predictions_entropy = classifier_tree_entropy.predict(X_test)\n"
   ]
  },
  {
   "cell_type": "markdown",
   "id": "3e2433a0-8f25-4eee-9634-e5fee012b0be",
   "metadata": {},
   "source": [
    "### Decision Tree with Gini Index Criterion"
   ]
  },
  {
   "cell_type": "code",
   "execution_count": 37,
   "id": "c35beb75-5244-4ab6-8da8-94f7db37b2c7",
   "metadata": {},
   "outputs": [],
   "source": [
    "# Create and train the model\n",
    "classifier_tree_gini = DecisionTreeClassifier(criterion='gini', max_depth=maxDepth)\n",
    "classifier_tree_gini.fit(X_train, y_train)\n",
    "\n",
    "# Make predictions\n",
    "predictions_gini = classifier_tree_gini.predict(X_test)\n"
   ]
  },
  {
   "cell_type": "markdown",
   "id": "3d9cde3a-3cf9-4279-8d6d-a2c402f4b3dd",
   "metadata": {},
   "source": [
    "## Step 5: Model Evaluation\n"
   ]
  },
  {
   "cell_type": "code",
   "execution_count": 41,
   "id": "d50b2bc2-c4c7-4570-b6c9-c40be2b4dcf9",
   "metadata": {},
   "outputs": [
    {
     "name": "stdout",
     "output_type": "stream",
     "text": [
      "Entropy-Based Tree Evaluation:\n",
      "              precision    recall  f1-score   support\n",
      "\n",
      "           0       0.91      0.73      0.81        83\n",
      "           1       0.45      0.82      0.58        11\n",
      "           2       0.96      0.98      0.97       235\n",
      "           3       0.79      0.88      0.83        17\n",
      "\n",
      "    accuracy                           0.91       346\n",
      "   macro avg       0.78      0.85      0.80       346\n",
      "weighted avg       0.93      0.91      0.92       346\n",
      "\n",
      "Gini-Based Tree Evaluation:\n",
      "              precision    recall  f1-score   support\n",
      "\n",
      "           0       0.96      0.81      0.88        83\n",
      "           1       0.45      0.82      0.58        11\n",
      "           2       0.99      1.00      0.99       235\n",
      "           3       0.79      0.88      0.83        17\n",
      "\n",
      "    accuracy                           0.94       346\n",
      "   macro avg       0.80      0.88      0.82       346\n",
      "weighted avg       0.95      0.94      0.94       346\n",
      "\n"
     ]
    }
   ],
   "source": [
    "# Evaluate entropy-based tree\n",
    "print(\"Entropy-Based Tree Evaluation:\")\n",
    "print(classification_report(y_test, predictions_entropy))\n",
    "\n",
    "# Evaluate gini-based tree\n",
    "print(\"Gini-Based Tree Evaluation:\")\n",
    "print(classification_report(y_test, predictions_gini))\n"
   ]
  },
  {
   "cell_type": "markdown",
   "id": "d6a62901-42c0-43f5-9911-05aeb194ed3a",
   "metadata": {},
   "source": [
    "## Step 6: Visualizing the Decision Trees"
   ]
  },
  {
   "cell_type": "code",
   "execution_count": 44,
   "id": "55c5f8ce-e06c-4197-951b-d3d08dbb3d1a",
   "metadata": {},
   "outputs": [
    {
     "ename": "ExecutableNotFound",
     "evalue": "failed to execute WindowsPath('dot'), make sure the Graphviz executables are on your systems' PATH",
     "output_type": "error",
     "traceback": [
      "\u001b[1;31m---------------------------------------------------------------------------\u001b[0m",
      "\u001b[1;31mFileNotFoundError\u001b[0m                         Traceback (most recent call last)",
      "File \u001b[1;32m~\\anaconda\\Lib\\site-packages\\graphviz\\backend\\execute.py:78\u001b[0m, in \u001b[0;36mrun_check\u001b[1;34m(cmd, input_lines, encoding, quiet, **kwargs)\u001b[0m\n\u001b[0;32m     77\u001b[0m     \u001b[38;5;28;01melse\u001b[39;00m:\n\u001b[1;32m---> 78\u001b[0m         proc \u001b[38;5;241m=\u001b[39m subprocess\u001b[38;5;241m.\u001b[39mrun(cmd, \u001b[38;5;241m*\u001b[39m\u001b[38;5;241m*\u001b[39mkwargs)\n\u001b[0;32m     79\u001b[0m \u001b[38;5;28;01mexcept\u001b[39;00m \u001b[38;5;167;01mOSError\u001b[39;00m \u001b[38;5;28;01mas\u001b[39;00m e:\n",
      "File \u001b[1;32m~\\anaconda\\Lib\\subprocess.py:548\u001b[0m, in \u001b[0;36mrun\u001b[1;34m(input, capture_output, timeout, check, *popenargs, **kwargs)\u001b[0m\n\u001b[0;32m    546\u001b[0m     kwargs[\u001b[38;5;124m'\u001b[39m\u001b[38;5;124mstderr\u001b[39m\u001b[38;5;124m'\u001b[39m] \u001b[38;5;241m=\u001b[39m PIPE\n\u001b[1;32m--> 548\u001b[0m \u001b[38;5;28;01mwith\u001b[39;00m Popen(\u001b[38;5;241m*\u001b[39mpopenargs, \u001b[38;5;241m*\u001b[39m\u001b[38;5;241m*\u001b[39mkwargs) \u001b[38;5;28;01mas\u001b[39;00m process:\n\u001b[0;32m    549\u001b[0m     \u001b[38;5;28;01mtry\u001b[39;00m:\n",
      "File \u001b[1;32m~\\anaconda\\Lib\\subprocess.py:1026\u001b[0m, in \u001b[0;36mPopen.__init__\u001b[1;34m(self, args, bufsize, executable, stdin, stdout, stderr, preexec_fn, close_fds, shell, cwd, env, universal_newlines, startupinfo, creationflags, restore_signals, start_new_session, pass_fds, user, group, extra_groups, encoding, errors, text, umask, pipesize, process_group)\u001b[0m\n\u001b[0;32m   1023\u001b[0m             \u001b[38;5;28mself\u001b[39m\u001b[38;5;241m.\u001b[39mstderr \u001b[38;5;241m=\u001b[39m io\u001b[38;5;241m.\u001b[39mTextIOWrapper(\u001b[38;5;28mself\u001b[39m\u001b[38;5;241m.\u001b[39mstderr,\n\u001b[0;32m   1024\u001b[0m                     encoding\u001b[38;5;241m=\u001b[39mencoding, errors\u001b[38;5;241m=\u001b[39merrors)\n\u001b[1;32m-> 1026\u001b[0m     \u001b[38;5;28mself\u001b[39m\u001b[38;5;241m.\u001b[39m_execute_child(args, executable, preexec_fn, close_fds,\n\u001b[0;32m   1027\u001b[0m                         pass_fds, cwd, env,\n\u001b[0;32m   1028\u001b[0m                         startupinfo, creationflags, shell,\n\u001b[0;32m   1029\u001b[0m                         p2cread, p2cwrite,\n\u001b[0;32m   1030\u001b[0m                         c2pread, c2pwrite,\n\u001b[0;32m   1031\u001b[0m                         errread, errwrite,\n\u001b[0;32m   1032\u001b[0m                         restore_signals,\n\u001b[0;32m   1033\u001b[0m                         gid, gids, uid, umask,\n\u001b[0;32m   1034\u001b[0m                         start_new_session, process_group)\n\u001b[0;32m   1035\u001b[0m \u001b[38;5;28;01mexcept\u001b[39;00m:\n\u001b[0;32m   1036\u001b[0m     \u001b[38;5;66;03m# Cleanup if the child failed starting.\u001b[39;00m\n",
      "File \u001b[1;32m~\\anaconda\\Lib\\subprocess.py:1538\u001b[0m, in \u001b[0;36mPopen._execute_child\u001b[1;34m(self, args, executable, preexec_fn, close_fds, pass_fds, cwd, env, startupinfo, creationflags, shell, p2cread, p2cwrite, c2pread, c2pwrite, errread, errwrite, unused_restore_signals, unused_gid, unused_gids, unused_uid, unused_umask, unused_start_new_session, unused_process_group)\u001b[0m\n\u001b[0;32m   1537\u001b[0m \u001b[38;5;28;01mtry\u001b[39;00m:\n\u001b[1;32m-> 1538\u001b[0m     hp, ht, pid, tid \u001b[38;5;241m=\u001b[39m _winapi\u001b[38;5;241m.\u001b[39mCreateProcess(executable, args,\n\u001b[0;32m   1539\u001b[0m                              \u001b[38;5;66;03m# no special security\u001b[39;00m\n\u001b[0;32m   1540\u001b[0m                              \u001b[38;5;28;01mNone\u001b[39;00m, \u001b[38;5;28;01mNone\u001b[39;00m,\n\u001b[0;32m   1541\u001b[0m                              \u001b[38;5;28mint\u001b[39m(\u001b[38;5;129;01mnot\u001b[39;00m close_fds),\n\u001b[0;32m   1542\u001b[0m                              creationflags,\n\u001b[0;32m   1543\u001b[0m                              env,\n\u001b[0;32m   1544\u001b[0m                              cwd,\n\u001b[0;32m   1545\u001b[0m                              startupinfo)\n\u001b[0;32m   1546\u001b[0m \u001b[38;5;28;01mfinally\u001b[39;00m:\n\u001b[0;32m   1547\u001b[0m     \u001b[38;5;66;03m# Child is launched. Close the parent's copy of those pipe\u001b[39;00m\n\u001b[0;32m   1548\u001b[0m     \u001b[38;5;66;03m# handles that only the child should have open.  You need\u001b[39;00m\n\u001b[1;32m   (...)\u001b[0m\n\u001b[0;32m   1551\u001b[0m     \u001b[38;5;66;03m# pipe will not close when the child process exits and the\u001b[39;00m\n\u001b[0;32m   1552\u001b[0m     \u001b[38;5;66;03m# ReadFile will hang.\u001b[39;00m\n",
      "\u001b[1;31mFileNotFoundError\u001b[0m: [WinError 2] The system cannot find the file specified",
      "\nThe above exception was the direct cause of the following exception:\n",
      "\u001b[1;31mExecutableNotFound\u001b[0m                        Traceback (most recent call last)",
      "Cell \u001b[1;32mIn[44], line 10\u001b[0m\n\u001b[0;32m      8\u001b[0m \u001b[38;5;66;03m# Generate the Graphviz visualization\u001b[39;00m\n\u001b[0;32m      9\u001b[0m graph \u001b[38;5;241m=\u001b[39m graphviz\u001b[38;5;241m.\u001b[39mSource(dot_data)\n\u001b[1;32m---> 10\u001b[0m graph\u001b[38;5;241m.\u001b[39mrender(\u001b[38;5;124m\"\u001b[39m\u001b[38;5;124mentropy_tree\u001b[39m\u001b[38;5;124m\"\u001b[39m)  \u001b[38;5;66;03m# Saves as entropy_tree.pdf\u001b[39;00m\n\u001b[0;32m     11\u001b[0m graph\u001b[38;5;241m.\u001b[39mview()\n",
      "File \u001b[1;32m~\\anaconda\\Lib\\site-packages\\graphviz\\_tools.py:171\u001b[0m, in \u001b[0;36mdeprecate_positional_args.<locals>.decorator.<locals>.wrapper\u001b[1;34m(*args, **kwargs)\u001b[0m\n\u001b[0;32m    162\u001b[0m     wanted \u001b[38;5;241m=\u001b[39m \u001b[38;5;124m'\u001b[39m\u001b[38;5;124m, \u001b[39m\u001b[38;5;124m'\u001b[39m\u001b[38;5;241m.\u001b[39mjoin(\u001b[38;5;124mf\u001b[39m\u001b[38;5;124m'\u001b[39m\u001b[38;5;132;01m{\u001b[39;00mname\u001b[38;5;132;01m}\u001b[39;00m\u001b[38;5;124m=\u001b[39m\u001b[38;5;132;01m{\u001b[39;00mvalue\u001b[38;5;132;01m!r}\u001b[39;00m\u001b[38;5;124m'\u001b[39m\n\u001b[0;32m    163\u001b[0m                        \u001b[38;5;28;01mfor\u001b[39;00m name, value \u001b[38;5;129;01min\u001b[39;00m deprecated\u001b[38;5;241m.\u001b[39mitems())\n\u001b[0;32m    164\u001b[0m     warnings\u001b[38;5;241m.\u001b[39mwarn(\u001b[38;5;124mf\u001b[39m\u001b[38;5;124m'\u001b[39m\u001b[38;5;124mThe signature of \u001b[39m\u001b[38;5;132;01m{\u001b[39;00mfunc\u001b[38;5;241m.\u001b[39m\u001b[38;5;18m__name__\u001b[39m\u001b[38;5;132;01m}\u001b[39;00m\u001b[38;5;124m will be reduced\u001b[39m\u001b[38;5;124m'\u001b[39m\n\u001b[0;32m    165\u001b[0m                   \u001b[38;5;124mf\u001b[39m\u001b[38;5;124m'\u001b[39m\u001b[38;5;124m to \u001b[39m\u001b[38;5;132;01m{\u001b[39;00msupported_number\u001b[38;5;132;01m}\u001b[39;00m\u001b[38;5;124m positional args\u001b[39m\u001b[38;5;124m'\u001b[39m\n\u001b[0;32m    166\u001b[0m                   \u001b[38;5;124mf\u001b[39m\u001b[38;5;124m'\u001b[39m\u001b[38;5;124m \u001b[39m\u001b[38;5;132;01m{\u001b[39;00m\u001b[38;5;28mlist\u001b[39m(supported)\u001b[38;5;132;01m}\u001b[39;00m\u001b[38;5;124m: pass \u001b[39m\u001b[38;5;132;01m{\u001b[39;00mwanted\u001b[38;5;132;01m}\u001b[39;00m\u001b[38;5;124m'\u001b[39m\n\u001b[0;32m    167\u001b[0m                   \u001b[38;5;124m'\u001b[39m\u001b[38;5;124m as keyword arg(s)\u001b[39m\u001b[38;5;124m'\u001b[39m,\n\u001b[0;32m    168\u001b[0m                   stacklevel\u001b[38;5;241m=\u001b[39mstacklevel,\n\u001b[0;32m    169\u001b[0m                   category\u001b[38;5;241m=\u001b[39mcategory)\n\u001b[1;32m--> 171\u001b[0m \u001b[38;5;28;01mreturn\u001b[39;00m func(\u001b[38;5;241m*\u001b[39margs, \u001b[38;5;241m*\u001b[39m\u001b[38;5;241m*\u001b[39mkwargs)\n",
      "File \u001b[1;32m~\\anaconda\\Lib\\site-packages\\graphviz\\rendering.py:122\u001b[0m, in \u001b[0;36mRender.render\u001b[1;34m(self, filename, directory, view, cleanup, format, renderer, formatter, neato_no_op, quiet, quiet_view, outfile, engine, raise_if_result_exists, overwrite_source)\u001b[0m\n\u001b[0;32m    118\u001b[0m filepath \u001b[38;5;241m=\u001b[39m \u001b[38;5;28mself\u001b[39m\u001b[38;5;241m.\u001b[39msave(filename, directory\u001b[38;5;241m=\u001b[39mdirectory, skip_existing\u001b[38;5;241m=\u001b[39m\u001b[38;5;28;01mNone\u001b[39;00m)\n\u001b[0;32m    120\u001b[0m args\u001b[38;5;241m.\u001b[39mappend(filepath)\n\u001b[1;32m--> 122\u001b[0m rendered \u001b[38;5;241m=\u001b[39m \u001b[38;5;28mself\u001b[39m\u001b[38;5;241m.\u001b[39m_render(\u001b[38;5;241m*\u001b[39margs, \u001b[38;5;241m*\u001b[39m\u001b[38;5;241m*\u001b[39mkwargs)\n\u001b[0;32m    124\u001b[0m \u001b[38;5;28;01mif\u001b[39;00m cleanup:\n\u001b[0;32m    125\u001b[0m     log\u001b[38;5;241m.\u001b[39mdebug(\u001b[38;5;124m'\u001b[39m\u001b[38;5;124mdelete \u001b[39m\u001b[38;5;132;01m%r\u001b[39;00m\u001b[38;5;124m'\u001b[39m, filepath)\n",
      "File \u001b[1;32m~\\anaconda\\Lib\\site-packages\\graphviz\\_tools.py:171\u001b[0m, in \u001b[0;36mdeprecate_positional_args.<locals>.decorator.<locals>.wrapper\u001b[1;34m(*args, **kwargs)\u001b[0m\n\u001b[0;32m    162\u001b[0m     wanted \u001b[38;5;241m=\u001b[39m \u001b[38;5;124m'\u001b[39m\u001b[38;5;124m, \u001b[39m\u001b[38;5;124m'\u001b[39m\u001b[38;5;241m.\u001b[39mjoin(\u001b[38;5;124mf\u001b[39m\u001b[38;5;124m'\u001b[39m\u001b[38;5;132;01m{\u001b[39;00mname\u001b[38;5;132;01m}\u001b[39;00m\u001b[38;5;124m=\u001b[39m\u001b[38;5;132;01m{\u001b[39;00mvalue\u001b[38;5;132;01m!r}\u001b[39;00m\u001b[38;5;124m'\u001b[39m\n\u001b[0;32m    163\u001b[0m                        \u001b[38;5;28;01mfor\u001b[39;00m name, value \u001b[38;5;129;01min\u001b[39;00m deprecated\u001b[38;5;241m.\u001b[39mitems())\n\u001b[0;32m    164\u001b[0m     warnings\u001b[38;5;241m.\u001b[39mwarn(\u001b[38;5;124mf\u001b[39m\u001b[38;5;124m'\u001b[39m\u001b[38;5;124mThe signature of \u001b[39m\u001b[38;5;132;01m{\u001b[39;00mfunc\u001b[38;5;241m.\u001b[39m\u001b[38;5;18m__name__\u001b[39m\u001b[38;5;132;01m}\u001b[39;00m\u001b[38;5;124m will be reduced\u001b[39m\u001b[38;5;124m'\u001b[39m\n\u001b[0;32m    165\u001b[0m                   \u001b[38;5;124mf\u001b[39m\u001b[38;5;124m'\u001b[39m\u001b[38;5;124m to \u001b[39m\u001b[38;5;132;01m{\u001b[39;00msupported_number\u001b[38;5;132;01m}\u001b[39;00m\u001b[38;5;124m positional args\u001b[39m\u001b[38;5;124m'\u001b[39m\n\u001b[0;32m    166\u001b[0m                   \u001b[38;5;124mf\u001b[39m\u001b[38;5;124m'\u001b[39m\u001b[38;5;124m \u001b[39m\u001b[38;5;132;01m{\u001b[39;00m\u001b[38;5;28mlist\u001b[39m(supported)\u001b[38;5;132;01m}\u001b[39;00m\u001b[38;5;124m: pass \u001b[39m\u001b[38;5;132;01m{\u001b[39;00mwanted\u001b[38;5;132;01m}\u001b[39;00m\u001b[38;5;124m'\u001b[39m\n\u001b[0;32m    167\u001b[0m                   \u001b[38;5;124m'\u001b[39m\u001b[38;5;124m as keyword arg(s)\u001b[39m\u001b[38;5;124m'\u001b[39m,\n\u001b[0;32m    168\u001b[0m                   stacklevel\u001b[38;5;241m=\u001b[39mstacklevel,\n\u001b[0;32m    169\u001b[0m                   category\u001b[38;5;241m=\u001b[39mcategory)\n\u001b[1;32m--> 171\u001b[0m \u001b[38;5;28;01mreturn\u001b[39;00m func(\u001b[38;5;241m*\u001b[39margs, \u001b[38;5;241m*\u001b[39m\u001b[38;5;241m*\u001b[39mkwargs)\n",
      "File \u001b[1;32m~\\anaconda\\Lib\\site-packages\\graphviz\\backend\\rendering.py:326\u001b[0m, in \u001b[0;36mrender\u001b[1;34m(engine, format, filepath, renderer, formatter, neato_no_op, quiet, outfile, raise_if_result_exists, overwrite_filepath)\u001b[0m\n\u001b[0;32m    322\u001b[0m cmd \u001b[38;5;241m+\u001b[39m\u001b[38;5;241m=\u001b[39m args\n\u001b[0;32m    324\u001b[0m \u001b[38;5;28;01massert\u001b[39;00m filepath \u001b[38;5;129;01mis\u001b[39;00m \u001b[38;5;129;01mnot\u001b[39;00m \u001b[38;5;28;01mNone\u001b[39;00m, \u001b[38;5;124m'\u001b[39m\u001b[38;5;124mwork around pytype false alarm\u001b[39m\u001b[38;5;124m'\u001b[39m\n\u001b[1;32m--> 326\u001b[0m execute\u001b[38;5;241m.\u001b[39mrun_check(cmd,\n\u001b[0;32m    327\u001b[0m                   cwd\u001b[38;5;241m=\u001b[39mfilepath\u001b[38;5;241m.\u001b[39mparent \u001b[38;5;28;01mif\u001b[39;00m filepath\u001b[38;5;241m.\u001b[39mparent\u001b[38;5;241m.\u001b[39mparts \u001b[38;5;28;01melse\u001b[39;00m \u001b[38;5;28;01mNone\u001b[39;00m,\n\u001b[0;32m    328\u001b[0m                   quiet\u001b[38;5;241m=\u001b[39mquiet,\n\u001b[0;32m    329\u001b[0m                   capture_output\u001b[38;5;241m=\u001b[39m\u001b[38;5;28;01mTrue\u001b[39;00m)\n\u001b[0;32m    331\u001b[0m \u001b[38;5;28;01mreturn\u001b[39;00m os\u001b[38;5;241m.\u001b[39mfspath(outfile)\n",
      "File \u001b[1;32m~\\anaconda\\Lib\\site-packages\\graphviz\\backend\\execute.py:81\u001b[0m, in \u001b[0;36mrun_check\u001b[1;34m(cmd, input_lines, encoding, quiet, **kwargs)\u001b[0m\n\u001b[0;32m     79\u001b[0m \u001b[38;5;28;01mexcept\u001b[39;00m \u001b[38;5;167;01mOSError\u001b[39;00m \u001b[38;5;28;01mas\u001b[39;00m e:\n\u001b[0;32m     80\u001b[0m     \u001b[38;5;28;01mif\u001b[39;00m e\u001b[38;5;241m.\u001b[39merrno \u001b[38;5;241m==\u001b[39m errno\u001b[38;5;241m.\u001b[39mENOENT:\n\u001b[1;32m---> 81\u001b[0m         \u001b[38;5;28;01mraise\u001b[39;00m ExecutableNotFound(cmd) \u001b[38;5;28;01mfrom\u001b[39;00m \u001b[38;5;21;01me\u001b[39;00m\n\u001b[0;32m     82\u001b[0m     \u001b[38;5;28;01mraise\u001b[39;00m\n\u001b[0;32m     84\u001b[0m \u001b[38;5;28;01mif\u001b[39;00m \u001b[38;5;129;01mnot\u001b[39;00m quiet \u001b[38;5;129;01mand\u001b[39;00m proc\u001b[38;5;241m.\u001b[39mstderr:\n",
      "\u001b[1;31mExecutableNotFound\u001b[0m: failed to execute WindowsPath('dot'), make sure the Graphviz executables are on your systems' PATH"
     ]
    }
   ],
   "source": [
    "# Export and visualize the decision tree\n",
    "dot_data = export_graphviz(classifier_tree_entropy,\n",
    "                           out_file=None,\n",
    "                           feature_names=car_X_encoded.columns.tolist(),\n",
    "                           class_names=label_encoder.classes_,\n",
    "                           filled=True, rounded=True, special_characters=True)\n",
    "\n",
    "# Generate the Graphviz visualization\n",
    "graph = graphviz.Source(dot_data)\n",
    "graph.render(\"entropy_tree\")  # Saves as entropy_tree.pdf\n",
    "graph.view()\n"
   ]
  }
 ],
 "metadata": {
  "kernelspec": {
   "display_name": "Python 3 (ipykernel)",
   "language": "python",
   "name": "python3"
  },
  "language_info": {
   "codemirror_mode": {
    "name": "ipython",
    "version": 3
   },
   "file_extension": ".py",
   "mimetype": "text/x-python",
   "name": "python",
   "nbconvert_exporter": "python",
   "pygments_lexer": "ipython3",
   "version": "3.12.7"
  }
 },
 "nbformat": 4,
 "nbformat_minor": 5
}
